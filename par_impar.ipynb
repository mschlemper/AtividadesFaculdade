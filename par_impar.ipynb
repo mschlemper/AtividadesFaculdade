{
  "nbformat": 4,
  "nbformat_minor": 0,
  "metadata": {
    "colab": {
      "provenance": [],
      "authorship_tag": "ABX9TyPAlwA5HzXeuEt8W8XW+knU",
      "include_colab_link": true
    },
    "kernelspec": {
      "name": "python3",
      "display_name": "Python 3"
    },
    "language_info": {
      "name": "python"
    }
  },
  "cells": [
    {
      "cell_type": "markdown",
      "metadata": {
        "id": "view-in-github",
        "colab_type": "text"
      },
      "source": [
        "<a href=\"https://colab.research.google.com/github/mschlemper/AtividadesFaculdade/blob/main/par_impar.ipynb\" target=\"_parent\"><img src=\"https://colab.research.google.com/assets/colab-badge.svg\" alt=\"Open In Colab\"/></a>"
      ]
    },
    {
      "cell_type": "code",
      "source": [
        "# Solicita ao usuário um número inteiro\n",
        "numero = int(input())\n",
        "\n",
        "# Verifica se o número é par ou ímpar e imprime o resultado:\n",
        "if numero % 2 == 0:\n",
        "    print(\"Par\")\n",
        "else:\n",
        "    print(\"Ímpar\")"
      ],
      "metadata": {
        "colab": {
          "base_uri": "https://localhost:8080/"
        },
        "id": "KnIaZcmHmH1f",
        "outputId": "ca3c40f9-f957-412a-9746-5db404fab004"
      },
      "execution_count": 10,
      "outputs": [
        {
          "output_type": "stream",
          "name": "stdout",
          "text": [
            "1\n",
            "Ímpar\n"
          ]
        }
      ]
    }
  ]
}