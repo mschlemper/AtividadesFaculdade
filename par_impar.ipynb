{
  "nbformat": 4,
  "nbformat_minor": 0,
  "metadata": {
    "colab": {
      "provenance": [],
      "authorship_tag": "ABX9TyMAfrfXycjJnpUuguSLIXVq",
      "include_colab_link": true
    },
    "kernelspec": {
      "name": "python3",
      "display_name": "Python 3"
    },
    "language_info": {
      "name": "python"
    }
  },
  "cells": [
    {
      "cell_type": "markdown",
      "metadata": {
        "id": "view-in-github",
        "colab_type": "text"
      },
      "source": [
        "<a href=\"https://colab.research.google.com/github/mschlemper/AtividadesFaculdade/blob/main/par_impar.ipynb\" target=\"_parent\"><img src=\"https://colab.research.google.com/assets/colab-badge.svg\" alt=\"Open In Colab\"/></a>"
      ]
    },
    {
      "cell_type": "code",
      "source": [
        "# Solicita ao usuário um número inteiro\n",
        "numero = int(input('digite um numero inteiro'))\n",
        "\n",
        "# TODO: Verifique se o número é par ou ímpar e imprima o resultado:\n",
        "# Solicita ao usuário um número inteiro\n",
        "\n",
        "# Verifica se o número é par ou ímpar\n",
        "if numero % 2 == 0:\n",
        "    print(\"O número é par.\")\n",
        "else:\n",
        "    print(\"O número é ímpar.\")"
      ],
      "metadata": {
        "colab": {
          "base_uri": "https://localhost:8080/"
        },
        "id": "KnIaZcmHmH1f",
        "outputId": "2fe936cd-26ea-4066-8728-a77bd60df65e"
      },
      "execution_count": 3,
      "outputs": [
        {
          "output_type": "stream",
          "name": "stdout",
          "text": [
            "digite um numero inteiro7\n",
            "O número é ímpar.\n"
          ]
        }
      ]
    }
  ]
}