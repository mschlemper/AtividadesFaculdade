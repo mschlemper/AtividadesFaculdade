{
  "nbformat": 4,
  "nbformat_minor": 0,
  "metadata": {
    "colab": {
      "provenance": [],
      "authorship_tag": "ABX9TyNcVGlZ/e82HhUlid1PL8J8",
      "include_colab_link": true
    },
    "kernelspec": {
      "name": "python3",
      "display_name": "Python 3"
    },
    "language_info": {
      "name": "python"
    }
  },
  "cells": [
    {
      "cell_type": "markdown",
      "metadata": {
        "id": "view-in-github",
        "colab_type": "text"
      },
      "source": [
        "<a href=\"https://colab.research.google.com/github/mschlemper/AtividadesFaculdade/blob/main/exe2_nomeIdade.ipynb\" target=\"_parent\"><img src=\"https://colab.research.google.com/assets/colab-badge.svg\" alt=\"Open In Colab\"/></a>"
      ]
    },
    {
      "cell_type": "code",
      "execution_count": 8,
      "metadata": {
        "colab": {
          "base_uri": "https://localhost:8080/"
        },
        "id": "gITds-ITRwvt",
        "outputId": "358c7d44-b0b5-4c84-e17e-c7fdb5a29a20"
      },
      "outputs": [
        {
          "output_type": "stream",
          "name": "stdout",
          "text": [
            "Digite o nome para consultar a idade: Carol\n",
            "Carol tem 23 anos.\n"
          ]
        }
      ],
      "source": [
        "idades = {'Júlia': 16, 'Carol': 23, 'Alberto': 19, 'Roberta': 17}\n",
        "\n",
        "try:\n",
        "    nome = input(\"Digite o nome para consultar a idade: \")\n",
        "    idade = idades[nome]\n",
        "    print(f\"{nome} tem {idade} anos.\")\n",
        "\n",
        "except KeyError:\n",
        "    print(\"Nome não encontrado.\")"
      ]
    }
  ]
}