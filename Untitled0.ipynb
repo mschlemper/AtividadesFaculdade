{
  "nbformat": 4,
  "nbformat_minor": 0,
  "metadata": {
    "colab": {
      "provenance": [],
      "authorship_tag": "ABX9TyNFjKwGfWXCFc2Unt5iWeyu",
      "include_colab_link": true
    },
    "kernelspec": {
      "name": "python3",
      "display_name": "Python 3"
    },
    "language_info": {
      "name": "python"
    }
  },
  "cells": [
    {
      "cell_type": "markdown",
      "metadata": {
        "id": "view-in-github",
        "colab_type": "text"
      },
      "source": [
        "<a href=\"https://colab.research.google.com/github/mschlemper/AtividadesFaculdade/blob/main/Untitled0.ipynb\" target=\"_parent\"><img src=\"https://colab.research.google.com/assets/colab-badge.svg\" alt=\"Open In Colab\"/></a>"
      ]
    },
    {
      "cell_type": "code",
      "execution_count": 2,
      "metadata": {
        "colab": {
          "base_uri": "https://localhost:8080/"
        },
        "id": "arR1nLQ8NhBB",
        "outputId": "1f1b28e9-8329-4c76-d289-49fb2539e037"
      },
      "outputs": [
        {
          "output_type": "stream",
          "name": "stdout",
          "text": [
            "Digite o primeiro número: 7\n",
            "Digite o segundo número: 2\n",
            "O resultado da divisão é: 3.50\n"
          ]
        }
      ],
      "source": [
        "# 1. Faça um programa que solicite à pessoa usuária digitar dois números float e calcular a divisão entre esses números. O código deve conter um tratamento de erro, indicando o tipo de erro que foi gerado caso a divisão não seja possível de realizar.#\n",
        "\n",
        "try:\n",
        "    num1 = float(input(\"Digite o primeiro número: \"))\n",
        "    num2 = float(input(\"Digite o segundo número: \"))\n",
        "\n",
        "    resultado = num1 / num2\n",
        "    print(f\"O resultado da divisão é: {resultado:.2f}\")\n",
        "\n",
        "except ValueError as ve:\n",
        "    print(type(ve), \"Erro: Entrada inválida. Por favor, digite números válidos.\")\n",
        "\n",
        "except ZeroDivisionError as zde:\n",
        "    print(type(zde), \"Erro: Não é possível dividir por zero.\")\n",
        "\n",
        "except Exception as e:\n",
        "    print(type(e), f\"Erro inesperado: {e}\")\n"
      ]
    },
    {
      "cell_type": "code",
      "source": [
        "\n"
      ],
      "metadata": {
        "id": "XwceP1R-No65"
      },
      "execution_count": 2,
      "outputs": []
    }
  ]
}