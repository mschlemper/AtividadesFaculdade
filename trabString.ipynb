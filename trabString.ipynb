{
  "nbformat": 4,
  "nbformat_minor": 0,
  "metadata": {
    "colab": {
      "provenance": [],
      "authorship_tag": "ABX9TyP5VLJRT+tysJlosxLPkA44",
      "include_colab_link": true
    },
    "kernelspec": {
      "name": "python3",
      "display_name": "Python 3"
    },
    "language_info": {
      "name": "python"
    }
  },
  "cells": [
    {
      "cell_type": "markdown",
      "metadata": {
        "id": "view-in-github",
        "colab_type": "text"
      },
      "source": [
        "<a href=\"https://colab.research.google.com/github/mschlemper/AtividadesFaculdade/blob/main/trabString.ipynb\" target=\"_parent\"><img src=\"https://colab.research.google.com/assets/colab-badge.svg\" alt=\"Open In Colab\"/></a>"
      ]
    },
    {
      "cell_type": "markdown",
      "source": [
        "Descrição\n",
        "Neste desafio, implemente uma solução para completar a função conta_vogais que conta o número de vogais em uma string fornecida como entrada. Vogais são caracteres específicos sem acentuação, incluindo tanto letras minúsculas quanto maiúsculas (aeiouAEIOU).\n",
        "\n",
        "Para resolver este desafio, siga os passos abaixo:\n",
        "\n",
        "1. Defina um conjunto de vogais: Primeiramente, crie um conjunto contendo todas as vogais sem acentuação, incluindo tanto letras minúsculas quanto maiúsculas.\n",
        "\n",
        "2. Inicialize um contador: Em seguida, crie uma variável para contar o número de vogais encontradas na string, começando com zero.\n",
        "\n",
        "3. Itere pelos caracteres da string: Aqui percorremos cada caractere na string de entrada para verificar se é uma vogal.\n",
        "\n",
        "4. Verifique se o caractere é uma vogal: Para cada caractere, verifique se ele está presente no conjunto de vogais definido no passo 1. Se o caractere for uma vogal, incremente o contador em 1.\n",
        "\n",
        "5. Retorne o contador: Após percorrer todos os caracteres da string, retorne o valor do contador, que representa o número total de vogais na string.\n",
        "\n",
        "Documentação Oficial:\n",
        "https://docs.python.org/pt-br/3/tutorial/controlflow.html#for-statements\n",
        "\n",
        "Entrada\n",
        "A função recebe como entrada uma única string contendo letras/palavras.\n",
        "\n",
        "Saída\n",
        "A função deve retornar um número inteiro que representa o total de vogais encontradas na string de entrada.\n",
        "\n",
        "\n",
        "Exemplos\n",
        "A tabela abaixo apresenta exemplos com alguns dados de entrada e suas respectivas saídas esperadas. Certifique-se de testar seu programa com esses exemplos e com outros casos possíveis.\n",
        "\n",
        "Entrada\tSaída\n",
        "Python\tO número de vogais na string 'Python' é: 1\n",
        "Programação\tO número de vogais na string 'Programação' é: 4\n",
        "Função\tO número de vogais na string 'Função' é: 2\n",
        "ATENÇÃO\n",
        "\n",
        "As entradas e saídas dos desafios de código devem ser idênticas às definidas na descrição do desafio.\n",
        "\n",
        "\n",
        "\n"
      ],
      "metadata": {
        "id": "eKT6oXQ-uWJN"
      }
    },
    {
      "cell_type": "code",
      "execution_count": 4,
      "metadata": {
        "colab": {
          "base_uri": "https://localhost:8080/"
        },
        "id": "rhGeQmlTuUwd",
        "outputId": "aa923a38-9986-44cc-dff0-8d261e27770a"
      },
      "outputs": [
        {
          "output_type": "stream",
          "name": "stdout",
          "text": [
            "O número de vogais na string 'Python' é: 1\n",
            "O número de vogais na string 'Programação' é: 4\n",
            "O número de vogais na string 'Função' é: 2\n"
          ]
        }
      ],
      "source": [
        "def conta_vogais(texto):\n",
        "  \"\"\"\n",
        "  Conta o número de vogais em uma string.\n",
        "\n",
        "  Args:\n",
        "    texto: A string de entrada.\n",
        "\n",
        "  Returns:\n",
        "    O número total de vogais na string.\n",
        "  \"\"\"\n",
        "  vogais = {'a', 'e', 'i', 'o', 'u', 'A', 'E', 'I', 'O', 'U'}\n",
        "  contador = 0\n",
        "  for caractere in texto:\n",
        "    if caractere in vogais:\n",
        "      contador += 1\n",
        "  return contador\n",
        "\n",
        "# Exemplos de uso:\n",
        "print(f\"O número de vogais na string 'Python' é: {conta_vogais('Python')}\")\n",
        "print(f\"O número de vogais na string 'Programação' é: {conta_vogais('Programação')}\")\n",
        "print(f\"O número de vogais na string 'Função' é: {conta_vogais('Função')}\")"
      ]
    },
    {
      "cell_type": "code",
      "metadata": {
        "colab": {
          "base_uri": "https://localhost:8080/"
        },
        "id": "f336e718",
        "outputId": "a57a9ef7-6a0d-48a5-cf4d-4fd4ed36da02"
      },
      "source": [
        "print(f\"O número de vogais na string 'bolacha' é: {conta_vogais('bolacha')}\")"
      ],
      "execution_count": 5,
      "outputs": [
        {
          "output_type": "stream",
          "name": "stdout",
          "text": [
            "O número de vogais na string 'bolacha' é: 3\n"
          ]
        }
      ]
    }
  ]
}